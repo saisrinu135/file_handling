{
 "cells": [
  {
   "cell_type": "code",
   "execution_count": 25,
   "metadata": {},
   "outputs": [],
   "source": [
    "import csv\n",
    "d = {'col_name':'pys','address':'hyd','website':'pys.com','phone':9988776655,'staff':1,'students':200}\n",
    "\n",
    "def csv_dict_write(file, data):\n",
    "    fp = open(file,'w',newline=\"\")\n",
    "    w=csv.DictWriter(fp,list(data))\n",
    "    w.writeheader()\n",
    "    w.writerow(data)\n",
    "    fp.close()\n",
    "csv_dict_write('college.csv',d)"
   ]
  },
  {
   "cell_type": "code",
   "execution_count": 26,
   "metadata": {},
   "outputs": [],
   "source": [
    "d = {'col_name':'hp','address':'hyd','website':'hp.com','phone':9988776603,'staff':50,'students':2000}\n",
    "def csv_dict_append(file,data):\n",
    "    fp=open(file,'a',newline=\"\")\n",
    "    w = csv.DictWriter(fp,['col_name','address','website','phone','staff','students'])\n",
    "    w.writerow(data)\n",
    "    fp.close()\n",
    "csv_dict_append('college.csv',d)"
   ]
  },
  {
   "cell_type": "code",
   "execution_count": 27,
   "metadata": {},
   "outputs": [
    {
     "data": {
      "text/plain": [
       "[{'col_name': 'pys',\n",
       "  'address': 'hyd',\n",
       "  'website': 'pys.com',\n",
       "  'phone': '9988776655',\n",
       "  'staff': '1',\n",
       "  'students': '200'},\n",
       " {'col_name': 'hp',\n",
       "  'address': 'hyd',\n",
       "  'website': 'hp.com',\n",
       "  'phone': '9988776603',\n",
       "  'staff': '50',\n",
       "  'students': '2000'}]"
      ]
     },
     "execution_count": 27,
     "metadata": {},
     "output_type": "execute_result"
    }
   ],
   "source": [
    "def csv_dict_read(file):\n",
    "    fp = open(file,'r')\n",
    "    r = csv.DictReader(fp)\n",
    "    res= list(r)\n",
    "    fp.close()\n",
    "    return res\n",
    "csv_dict_read(\"college.csv\")"
   ]
  },
  {
   "cell_type": "code",
   "execution_count": 28,
   "metadata": {},
   "outputs": [
    {
     "name": "stdout",
     "output_type": "stream",
     "text": [
      "Modification successful\n"
     ]
    }
   ],
   "source": [
    "def csv_dict_modify(file,id,modify):\n",
    "    res = csv_dict_read(file)\n",
    "    for i in res:\n",
    "        if str(i['phone']) == str(id) and len(modify)>0:\n",
    "            for k in modify:\n",
    "                i[k]=input(f\"Enter the {k}: \")\n",
    "            break\n",
    "    else:\n",
    "        print(\"record not found\")\n",
    "    fp = open(file,'w',newline=\"\")\n",
    "    w = csv.DictWriter(fp,['col_name','address','website','phone','staff','students'])\n",
    "    w.writeheader()\n",
    "    w.writerows(res)\n",
    "    fp.close()\n",
    "    print(\"Modification successful\")\n",
    "\n",
    "csv_dict_modify('college.csv',9988776603,['website','staff','students'])"
   ]
  },
  {
   "cell_type": "code",
   "execution_count": 31,
   "metadata": {},
   "outputs": [
    {
     "name": "stdout",
     "output_type": "stream",
     "text": [
      "Deletion Successful\n"
     ]
    }
   ],
   "source": [
    "def csv_delete_data(file,id,delete):\n",
    "    res = csv_dict_read(file)\n",
    "    for i in res:\n",
    "        if str(id)==str(i['phone']) and len(delete)>0:\n",
    "            for k in delete:\n",
    "                i[k]=None\n",
    "    fp= open(file,'w',newline=\"\")\n",
    "    w = csv.DictWriter(fp,['col_name','address','website','phone','staff','students'])\n",
    "    w.writeheader()\n",
    "    w.writerows(res)\n",
    "    fp.close()\n",
    "    print(\"Deletion Successful\")\n",
    "csv_delete_data(\"college.csv\",9988776603,['website'])"
   ]
  },
  {
   "cell_type": "code",
   "execution_count": 35,
   "metadata": {},
   "outputs": [
    {
     "name": "stdout",
     "output_type": "stream",
     "text": [
      "Record not found\n"
     ]
    }
   ],
   "source": [
    "def csv_delete_record(file,id):\n",
    "    res = csv_dict_read(file)\n",
    "    for i in range(0,len(res)):\n",
    "        if str(id)==str(res[i]['phone']):\n",
    "            del res[i]\n",
    "            break\n",
    "    else:\n",
    "        print(\"Record not found\")\n",
    "        return\n",
    "    fp = open(file,'w',newline=\"\")\n",
    "    w = csv.DictWriter(fp,list(res[0]))\n",
    "    w.writeheader()\n",
    "    w.writerows(res)\n",
    "    fp.close()\n",
    "    print(\"Deletion successful\")\n",
    "csv_delete_record(\"college.csv\",9988776603)"
   ]
  }
 ],
 "metadata": {
  "kernelspec": {
   "display_name": "Python 3",
   "language": "python",
   "name": "python3"
  },
  "language_info": {
   "codemirror_mode": {
    "name": "ipython",
    "version": 3
   },
   "file_extension": ".py",
   "mimetype": "text/x-python",
   "name": "python",
   "nbconvert_exporter": "python",
   "pygments_lexer": "ipython3",
   "version": "3.11.4"
  },
  "orig_nbformat": 4
 },
 "nbformat": 4,
 "nbformat_minor": 2
}
