{
 "cells": [
  {
   "cell_type": "code",
   "execution_count": 2,
   "metadata": {},
   "outputs": [],
   "source": [
    "l = {'name':\"ramu\",'age':22,'phone':[9999999999,8888888888],'mail':'ramu@gmail.com'}"
   ]
  },
  {
   "cell_type": "code",
   "execution_count": 3,
   "metadata": {},
   "outputs": [],
   "source": [
    "def write_file(file_name,data):\n",
    "    fp=open(file_name,'w')\n",
    "    fp.write(str(data))             #write supports only str format\n",
    "    fp.close()"
   ]
  },
  {
   "cell_type": "code",
   "execution_count": 8,
   "metadata": {},
   "outputs": [],
   "source": [
    "def read_file(file_name):\n",
    "    fp=open(file_name,'r')\n",
    "    res = fp.read()\n",
    "    res=eval(res)           #converts into actual format (here dictionary)\n",
    "    fp.close()\n",
    "    return res"
   ]
  },
  {
   "cell_type": "code",
   "execution_count": 5,
   "metadata": {},
   "outputs": [],
   "source": [
    "def append_file(file_name,data):\n",
    "    fp=open(file_name,'a')\n",
    "    fp.write('\\n'+str(data))                #appends into new line\n",
    "    fp.close()"
   ]
  },
  {
   "cell_type": "code",
   "execution_count": 6,
   "metadata": {},
   "outputs": [],
   "source": [
    "write_file(\"file.txt\",l)"
   ]
  },
  {
   "cell_type": "code",
   "execution_count": 9,
   "metadata": {},
   "outputs": [],
   "source": [
    "read_data=read_file(\"file.txt\")"
   ]
  },
  {
   "cell_type": "code",
   "execution_count": 10,
   "metadata": {},
   "outputs": [
    {
     "name": "stdout",
     "output_type": "stream",
     "text": [
      "{'name': 'ramu', 'age': 22, 'phone': [9999999999, 8888888888], 'mail': 'ramu@gmail.com'}\n"
     ]
    }
   ],
   "source": [
    "print(read_data)"
   ]
  },
  {
   "cell_type": "code",
   "execution_count": 12,
   "metadata": {},
   "outputs": [
    {
     "name": "stdout",
     "output_type": "stream",
     "text": [
      "ramu\n"
     ]
    }
   ],
   "source": [
    "read_data=read_file(\"file.txt\")\n",
    "print(read_data['name'])\n",
    "read_data['name']='Rama krishna'"
   ]
  },
  {
   "cell_type": "code",
   "execution_count": 13,
   "metadata": {},
   "outputs": [],
   "source": [
    "write_file(\"file.txt\",read_data)"
   ]
  },
  {
   "cell_type": "code",
   "execution_count": 15,
   "metadata": {},
   "outputs": [],
   "source": [
    "l = {'name':\"Shyam\",'age':22,'phone':[9898989898,8989898989],'mail':'shyam@gmail.com'}\n",
    "append_file(\"file.txt\",l)"
   ]
  },
  {
   "cell_type": "code",
   "execution_count": 16,
   "metadata": {},
   "outputs": [
    {
     "ename": "SyntaxError",
     "evalue": "invalid syntax (<string>, line 2)",
     "output_type": "error",
     "traceback": [
      "Traceback \u001b[1;36m(most recent call last)\u001b[0m:\n",
      "\u001b[0m  File \u001b[0;32m~\\AppData\\Roaming\\Python\\Python311\\site-packages\\IPython\\core\\interactiveshell.py:3508\u001b[0m in \u001b[0;35mrun_code\u001b[0m\n    exec(code_obj, self.user_global_ns, self.user_ns)\u001b[0m\n",
      "\u001b[0m  Cell \u001b[0;32mIn[16], line 1\u001b[0m\n    read_file(\"file.txt\")\u001b[0m\n",
      "\u001b[1;36m  Cell \u001b[1;32mIn[8], line 4\u001b[1;36m in \u001b[1;35mread_file\u001b[1;36m\n\u001b[1;33m    res=eval(res)           #converts into actual format (here dictionary)\u001b[1;36m\n",
      "\u001b[1;36m  File \u001b[1;32m<string>:2\u001b[1;36m\u001b[0m\n\u001b[1;33m    {'name': 'Shyam', 'age': 22, 'phone': [9898989898, 8989898989], 'mail': 'shyam@gmail.com'}\u001b[0m\n\u001b[1;37m    ^\u001b[0m\n\u001b[1;31mSyntaxError\u001b[0m\u001b[1;31m:\u001b[0m invalid syntax\n"
     ]
    }
   ],
   "source": [
    "read_file(\"file.txt\") #raises error as eval cannot read two dictionaries"
   ]
  },
  {
   "cell_type": "code",
   "execution_count": 20,
   "metadata": {},
   "outputs": [],
   "source": [
    "def readlinefile(file_name):\n",
    "    fp=open(\"file.txt\",'r')\n",
    "    res=fp.readlines()\n",
    "    fp.close()\n",
    "    temp=[]\n",
    "    for i in res:\n",
    "        temp+=[eval(i)]  #converts each string of dictionary into dictionary\n",
    "    return temp"
   ]
  },
  {
   "cell_type": "code",
   "execution_count": 21,
   "metadata": {},
   "outputs": [],
   "source": [
    "result = readlinefile(\"file.txt\")\n",
    "name = \"Shyam\"\n",
    "t = None\n",
    "for i in result:\n",
    "    if i['name']==name:\n",
    "        t=i"
   ]
  },
  {
   "cell_type": "code",
   "execution_count": 22,
   "metadata": {},
   "outputs": [
    {
     "data": {
      "text/plain": [
       "{'name': 'Shyam',\n",
       " 'age': 22,\n",
       " 'phone': [9898989898, 8989898989],\n",
       " 'mail': 'shyam@gmail.com'}"
      ]
     },
     "execution_count": 22,
     "metadata": {},
     "output_type": "execute_result"
    }
   ],
   "source": [
    "t"
   ]
  },
  {
   "cell_type": "code",
   "execution_count": 31,
   "metadata": {},
   "outputs": [
    {
     "data": {
      "text/plain": [
       "'Shyam'"
      ]
     },
     "execution_count": 31,
     "metadata": {},
     "output_type": "execute_result"
    }
   ],
   "source": [
    "t['name']"
   ]
  },
  {
   "cell_type": "code",
   "execution_count": 37,
   "metadata": {},
   "outputs": [],
   "source": [
    "# concatination of dtaa into the dictionary\n",
    "\n",
    "d = {'PYS01':{'pid':'PYS01','name':\"Krishna\",'age':22,'phone':9999999999,'email':\"krishna@gmail.com\"},\n",
    "     'PYS02':{'name':\"Raja\",'age':23,'phone':8888888888,'email':'raja@gmail.com'}}\n",
    "\n",
    "def write_file(file,data):\n",
    "    fp=open(file,'w')\n",
    "    fp.write(str(data))\n",
    "    fp.close()\n",
    "#write_file('person.text',d)\n",
    "\n"
   ]
  },
  {
   "cell_type": "code",
   "execution_count": 33,
   "metadata": {},
   "outputs": [],
   "source": [
    "def read_file(file):\n",
    "    fp=open(file,'r')\n",
    "    res = eval(fp.read())\n",
    "    fp.close()\n",
    "    return res"
   ]
  },
  {
   "cell_type": "code",
   "execution_count": 38,
   "metadata": {},
   "outputs": [],
   "source": [
    "write_file(\"person.txt\",d)"
   ]
  },
  {
   "cell_type": "code",
   "execution_count": 39,
   "metadata": {},
   "outputs": [
    {
     "data": {
      "text/plain": [
       "{'PYS01': {'pid': 'PYS01',\n",
       "  'name': 'Krishna',\n",
       "  'age': 22,\n",
       "  'phone': 9999999999,\n",
       "  'email': 'krishna@gmail.com'},\n",
       " 'PYS02': {'name': 'Raja',\n",
       "  'age': 23,\n",
       "  'phone': 8888888888,\n",
       "  'email': 'raja@gmail.com'}}"
      ]
     },
     "execution_count": 39,
     "metadata": {},
     "output_type": "execute_result"
    }
   ],
   "source": [
    "read_file(\"person.txt\")"
   ]
  },
  {
   "cell_type": "code",
   "execution_count": null,
   "metadata": {},
   "outputs": [],
   "source": [
    "data = {'name':'Rahul','age':25,'phone':8989898989,'email':\"rahul@gmail.com\"}\n",
    "def append_data(file,data)\n",
    "    fp=open()"
   ]
  }
 ],
 "metadata": {
  "kernelspec": {
   "display_name": "Python 3",
   "language": "python",
   "name": "python3"
  },
  "language_info": {
   "codemirror_mode": {
    "name": "ipython",
    "version": 3
   },
   "file_extension": ".py",
   "mimetype": "text/x-python",
   "name": "python",
   "nbconvert_exporter": "python",
   "pygments_lexer": "ipython3",
   "version": "3.11.4"
  },
  "orig_nbformat": 4
 },
 "nbformat": 4,
 "nbformat_minor": 2
}
