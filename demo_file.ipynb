{
 "cells": [
  {
   "cell_type": "code",
   "execution_count": 10,
   "metadata": {},
   "outputs": [],
   "source": [
    "#creating file in current directory\n",
    "\n",
    "file = open(\"demo_file.txt\",'w') #creates new file if file with name is not present\n",
    "file.close() #closes the opened file"
   ]
  },
  {
   "cell_type": "code",
   "execution_count": 11,
   "metadata": {},
   "outputs": [],
   "source": [
    "#creating file in current directory\n",
    "\n",
    "file = open(\"demo_file.txt\",'w')\n",
    "file.write(\"Hi, this is first file\") #writes data into the file. It empties all the data if present in the file before.\n",
    "file.close() #saves and closes file"
   ]
  },
  {
   "cell_type": "code",
   "execution_count": 21,
   "metadata": {},
   "outputs": [
    {
     "ename": "SyntaxError",
     "evalue": "(unicode error) 'unicodeescape' codec can't decode bytes in position 2-3: truncated \\UXXXXXXXX escape (3175854169.py, line 3)",
     "output_type": "error",
     "traceback": [
      "\u001b[1;36m  Cell \u001b[1;32mIn[21], line 3\u001b[1;36m\u001b[0m\n\u001b[1;33m    file1 = open(\"C:\\Users\\Saisrinu\\Desktop\\file.txt\",'r')  #returns error as the path is not supported\u001b[0m\n\u001b[1;37m                                                     ^\u001b[0m\n\u001b[1;31mSyntaxError\u001b[0m\u001b[1;31m:\u001b[0m (unicode error) 'unicodeescape' codec can't decode bytes in position 2-3: truncated \\UXXXXXXXX escape\n"
     ]
    }
   ],
   "source": [
    "#creating file in custon directory\n",
    "\n",
    "file1 = open(\"C:\\Users\\Saisrinu\\Desktop\\file.txt\",'r')  #returns error as the path is not supported"
   ]
  },
  {
   "cell_type": "code",
   "execution_count": 25,
   "metadata": {},
   "outputs": [],
   "source": [
    "#creating file in custon directory\n",
    "\n",
    "file1 = open(r\"C:\\Users\\Saisrinu\\Desktop\\file.txt\",'w')\n",
    "#doesn't returns error as 'r' is mentioned in the begining of the path so it converts the given path to system understandable path\n",
    "#file is created in the given path\n",
    "file1.close()"
   ]
  },
  {
   "cell_type": "code",
   "execution_count": 23,
   "metadata": {},
   "outputs": [],
   "source": [
    "#creating file in custon directory\n",
    "\n",
    "file1 = open(\"C:\\\\Users\\\\Saisrinu\\\\Desktop\\\\file1.txt\",'r')\n",
    "#doesn't returns error as given path is system understandable path\n",
    "#file is created in the given path\n",
    "file1.close()"
   ]
  },
  {
   "cell_type": "code",
   "execution_count": 30,
   "metadata": {},
   "outputs": [
    {
     "name": "stdout",
     "output_type": "stream",
     "text": [
      "Hi, this is first file\n"
     ]
    }
   ],
   "source": [
    "#reading a file in current directory\n",
    "file2 = open(\"demo_file.txt\",'r') #file is opened in read mode\n",
    "res = file2.read() #this returns the data from the file and stores in 'res' variable\n",
    "print(res)\n",
    "file2.close()"
   ]
  },
  {
   "cell_type": "code",
   "execution_count": 32,
   "metadata": {},
   "outputs": [
    {
     "name": "stdout",
     "output_type": "stream",
     "text": [
      "Hi\n"
     ]
    }
   ],
   "source": [
    "#reading a file in custom directory\n",
    "file1 = open(r\"C:\\\\Users\\\\Saisrinu\\\\Desktop\\\\file.txt\",'r')\n",
    "res = file1.read()\n",
    "print(res)"
   ]
  },
  {
   "cell_type": "code",
   "execution_count": 18,
   "metadata": {},
   "outputs": [],
   "source": [
    "fopen = open(\"demo_file.txt\",'w')\n",
    "fopen.write(\"Python\\nis\\nmostly\\nused\\nprogramming\\nlanguage\")\n",
    "fopen.close()"
   ]
  },
  {
   "cell_type": "code",
   "execution_count": 19,
   "metadata": {},
   "outputs": [
    {
     "name": "stdout",
     "output_type": "stream",
     "text": [
      "Python\n",
      "is\n",
      "mostly\n",
      "used\n",
      "programming\n",
      "language\n"
     ]
    }
   ],
   "source": [
    "fopen = open(\"demo_file.txt\",'r')\n",
    "print(fopen.read())\n",
    "fopen.close()"
   ]
  },
  {
   "cell_type": "code",
   "execution_count": 20,
   "metadata": {},
   "outputs": [
    {
     "name": "stdout",
     "output_type": "stream",
     "text": [
      "Python\n",
      "is\n",
      "mostly\n",
      "used\n",
      "programming\n",
      "language\n",
      "47\n",
      "63\n",
      "\n"
     ]
    }
   ],
   "source": [
    "fopen = open(\"demo_file.txt\",'r+')   #r+ --> performs read and write operation\n",
    "res=fopen.read()\n",
    "print(res)\n",
    "print(fopen.tell())\n",
    "fopen.write(\"\\nHi, hello, bye\")\n",
    "print(fopen.tell())\n",
    "res = fopen.read()\n",
    "print(res)\n",
    "fopen.close()"
   ]
  },
  {
   "cell_type": "code",
   "execution_count": 21,
   "metadata": {},
   "outputs": [
    {
     "name": "stdout",
     "output_type": "stream",
     "text": [
      "Python\n",
      "is\n",
      "mostly\n",
      "used\n",
      "programming\n",
      "language\n",
      "Hi, hello, bye\n",
      "63\n",
      "79\n",
      "Python\n",
      "is\n",
      "mostly\n",
      "used\n",
      "programming\n",
      "language\n",
      "Hi, hello, bye\n",
      "Hi, hello, bye\n"
     ]
    }
   ],
   "source": [
    "fopen = open(\"demo_file.txt\",'r+')\n",
    "res=fopen.read()\n",
    "print(res)\n",
    "print(fopen.tell())\n",
    "fopen.write(\"\\nHi, hello, bye\")\n",
    "print(fopen.tell())\n",
    "fopen.seek(0)             #sends control to specified position\n",
    "res = fopen.read()\n",
    "print(res)\n",
    "fopen.close()"
   ]
  },
  {
   "cell_type": "code",
   "execution_count": 12,
   "metadata": {},
   "outputs": [
    {
     "name": "stdout",
     "output_type": "stream",
     "text": [
      "13\n",
      "0\n",
      "Good question\n"
     ]
    }
   ],
   "source": [
    "fp = open(\"demo_file.txt\",'w+')  #used to perform both read and write operation\n",
    "fp.write(\"Good question\")  # write function wipes entire content in file and writes new content\n",
    "print(fp.tell())            #it just perform write mode and read mode in single mode w+. Wipes content wherever the write is used\n",
    "fp.seek(0)\n",
    "print(fp.tell())\n",
    "res = fp.read()\n",
    "print(res)\n",
    "fp.close()\n",
    "#Wiped entire content in file if write is used first"
   ]
  },
  {
   "cell_type": "code",
   "execution_count": 17,
   "metadata": {},
   "outputs": [
    {
     "name": "stdout",
     "output_type": "stream",
     "text": [
      "0\n",
      "\n"
     ]
    }
   ],
   "source": [
    "fp = open(\"demo_file.txt\",'w+')  \n",
    "print(fp.tell())\n",
    "res = fp.read()\n",
    "print(res)\n",
    "fp.tell()\n",
    "fp.write(\"Good question\")\n",
    "fp.tell()\n",
    "fp.close()\n",
    "\n",
    "#wiped entire content even if write is used next to read"
   ]
  },
  {
   "cell_type": "code",
   "execution_count": 22,
   "metadata": {},
   "outputs": [
    {
     "name": "stdout",
     "output_type": "stream",
     "text": [
      "79\n",
      "93\n",
      "0\n",
      "Python\n",
      "is\n",
      "mostly\n",
      "used\n",
      "programming\n",
      "language\n",
      "Hi, hello, bye\n",
      "Hi, hello, bye\n",
      "good morning\n",
      "93\n"
     ]
    }
   ],
   "source": [
    "fp = open(\"demo_file.txt\",'a+')  #performs both read and append fucntion\n",
    "print(fp.tell())                  #starts the control from end of the cintent in file and starts appending the content\n",
    "fp.write(\"\\ngood morning\")          #first read operation\n",
    "print(fp.tell())\n",
    "fp.seek(0)\n",
    "print(fp.tell())\n",
    "res = fp.read()\n",
    "print(res)\n",
    "print(fp.tell())\n",
    "fp.close()"
   ]
  },
  {
   "cell_type": "code",
   "execution_count": 25,
   "metadata": {},
   "outputs": [
    {
     "name": "stdout",
     "output_type": "stream",
     "text": [
      "111\n",
      "\n",
      "111\n",
      "0\n",
      "129\n"
     ]
    }
   ],
   "source": [
    "fp = open(\"demo_file.txt\",'a+')    #appends the new data in to the file\n",
    "print(fp.tell())\n",
    "res = fp.read()\n",
    "print(res)\n",
    "print(fp.tell())\n",
    "fp.seek(0)                          #position changed to 0\n",
    "print(fp.tell())                    #prints the position of cursor, 0 \n",
    "fp.write(\"Hello good evening\")    #appended data in in the end even if the cursor position is at the begining\n",
    "print(fp.tell())\n",
    "fp.close()"
   ]
  },
  {
   "cell_type": "code",
   "execution_count": 27,
   "metadata": {},
   "outputs": [],
   "source": [
    "#writeline and writelines\n",
    "\n",
    "fp = open(\"file1.txt\",'w')\n",
    "data = \"\"\"Model-View-Controller\n",
    "popular way to internally logic,\n",
    "display of an application into separate components.\n",
    "Web frameworks including Ruby on Rails,\n",
    "Spring (Java),\n",
    "Laravel(PHP),\n",
    "ASP.NET (C#) and many others.\"\"\"\n",
    "\n",
    "fp.write(data)\n",
    "fp.close()"
   ]
  },
  {
   "cell_type": "code",
   "execution_count": 33,
   "metadata": {},
   "outputs": [
    {
     "name": "stdout",
     "output_type": "stream",
     "text": [
      "Model-View-Controller\n",
      "popular way to internally logic,\n",
      "display of an application into separate components.\n",
      "Web frameworks including Ruby on Rails,\n",
      "Spring (Java),\n",
      "Laravel(PHP),\n",
      "ASP.NET (C#) and many others.\n"
     ]
    }
   ],
   "source": [
    "fp = open(\"file1.txt\",'r')          #returns the wntire content as single string\n",
    "res = fp.read()\n",
    "print(res)\n",
    "fp.close()"
   ]
  },
  {
   "cell_type": "code",
   "execution_count": 34,
   "metadata": {},
   "outputs": [
    {
     "name": "stdout",
     "output_type": "stream",
     "text": [
      "Model-View\n"
     ]
    }
   ],
   "source": [
    "fp = open(\"file1.txt\",'r') \n",
    "res = fp.read(10)           #returns mentioned characters from the starting of entire content\n",
    "print(res)\n",
    "fp.close()"
   ]
  },
  {
   "cell_type": "code",
   "execution_count": 35,
   "metadata": {},
   "outputs": [
    {
     "name": "stdout",
     "output_type": "stream",
     "text": [
      "Model-View-Controller\n",
      "\n"
     ]
    }
   ],
   "source": [
    "fp = open(\"file1.txt\",'r')          #returns a single line as single string\n",
    "res = fp.readline()\n",
    "print(res)\n",
    "fp.close()"
   ]
  },
  {
   "cell_type": "code",
   "execution_count": 38,
   "metadata": {},
   "outputs": [
    {
     "name": "stdout",
     "output_type": "stream",
     "text": [
      "Mod\n"
     ]
    }
   ],
   "source": [
    "fp = open(\"file1.txt\",'r')\n",
    "res = fp.readline(3)        #returns the number of characters in the first line        \n",
    "print(res)\n",
    "fp.close()"
   ]
  },
  {
   "cell_type": "code",
   "execution_count": 6,
   "metadata": {},
   "outputs": [
    {
     "name": "stdout",
     "output_type": "stream",
     "text": [
      "['Model-View-Controller\\n', 'popular way to internally logic,\\n', 'display of an application into separate components.\\n', 'Web frameworks including Ruby on Rails,\\n', 'Spring (Java),\\n', 'Laravel(PHP),\\n', 'ASP.NET (C#) and many others.']\n"
     ]
    }
   ],
   "source": [
    "fp = open(\"file1.txt\",'r')   #returns a list of strings of lines\n",
    "res = fp.readlines()\n",
    "print(res)\n",
    "fp.close()"
   ]
  },
  {
   "cell_type": "code",
   "execution_count": 4,
   "metadata": {},
   "outputs": [
    {
     "name": "stdout",
     "output_type": "stream",
     "text": [
      "['Model-View-Controller\\n']\n"
     ]
    }
   ],
   "source": [
    "fp = open(\"file1.txt\",'r')   #returns a list of strings of lines\n",
    "res = fp.readlines(3)\n",
    "print(res)\n",
    "fp.close()"
   ]
  },
  {
   "cell_type": "code",
   "execution_count": 7,
   "metadata": {},
   "outputs": [
    {
     "ename": "TypeError",
     "evalue": "write() argument must be str, not list",
     "output_type": "error",
     "traceback": [
      "\u001b[1;31m---------------------------------------------------------------------------\u001b[0m",
      "\u001b[1;31mTypeError\u001b[0m                                 Traceback (most recent call last)",
      "Cell \u001b[1;32mIn[7], line 3\u001b[0m\n\u001b[0;32m      1\u001b[0m fp \u001b[39m=\u001b[39m \u001b[39mopen\u001b[39m(\u001b[39m\"\u001b[39m\u001b[39mfile2.txt\u001b[39m\u001b[39m\"\u001b[39m,\u001b[39m'\u001b[39m\u001b[39mw\u001b[39m\u001b[39m'\u001b[39m)\n\u001b[0;32m      2\u001b[0m data \u001b[39m=\u001b[39m [\u001b[39m'\u001b[39m\u001b[39mModel-View-Controller\u001b[39m\u001b[39m\\n\u001b[39;00m\u001b[39m'\u001b[39m, \u001b[39m'\u001b[39m\u001b[39mpopular way to internally logic,\u001b[39m\u001b[39m\\n\u001b[39;00m\u001b[39m'\u001b[39m, \u001b[39m'\u001b[39m\u001b[39mdisplay of an application into separate components.\u001b[39m\u001b[39m\\n\u001b[39;00m\u001b[39m'\u001b[39m, \u001b[39m'\u001b[39m\u001b[39mWeb frameworks including Ruby on Rails,\u001b[39m\u001b[39m\\n\u001b[39;00m\u001b[39m'\u001b[39m, \u001b[39m'\u001b[39m\u001b[39mSpring (Java),\u001b[39m\u001b[39m\\n\u001b[39;00m\u001b[39m'\u001b[39m, \u001b[39m'\u001b[39m\u001b[39mLaravel(PHP),\u001b[39m\u001b[39m\\n\u001b[39;00m\u001b[39m'\u001b[39m, \u001b[39m'\u001b[39m\u001b[39mASP.NET (C#) and many others.\u001b[39m\u001b[39m'\u001b[39m]\n\u001b[1;32m----> 3\u001b[0m fp\u001b[39m.\u001b[39;49mwrite(data)\n\u001b[0;32m      4\u001b[0m \u001b[39mprint\u001b[39m(res)\n\u001b[0;32m      5\u001b[0m fp\u001b[39m.\u001b[39mclose()\n",
      "\u001b[1;31mTypeError\u001b[0m: write() argument must be str, not list"
     ]
    }
   ],
   "source": [
    "fp = open(\"file2.txt\",'w')\n",
    "data = ['Model-View-Controller\\n', 'popular way to internally logic,\\n', 'display of an application into separate components.\\n', 'Web frameworks including Ruby on Rails,\\n', 'Spring (Java),\\n', 'Laravel(PHP),\\n', 'ASP.NET (C#) and many others.']\n",
    "fp.write(data)          #write supports str format only\n",
    "print(res)\n",
    "fp.close()"
   ]
  },
  {
   "cell_type": "code",
   "execution_count": 5,
   "metadata": {},
   "outputs": [],
   "source": [
    "fp = open(\"file2.txt\",'w')\n",
    "data = ['Model-View-Controller\\n', 'popular way to internally logic,\\n', 'display of an application into separate components.\\n', 'Web frameworks including Ruby on Rails,\\n', 'Spring (Java),\\n', 'Laravel(PHP),\\n', 'ASP.NET (C#) and many others.']\n",
    "fp.writelines(data)\n",
    "fp.close()\n"
   ]
  },
  {
   "cell_type": "code",
   "execution_count": 13,
   "metadata": {},
   "outputs": [
    {
     "name": "stdout",
     "output_type": "stream",
     "text": [
      "<class 'str'>\n",
      "Model-View-Controller\n",
      "popular way to internally logic,\n",
      "display of an application into separate components.\n",
      "Web frameworks including Ruby on Rails,\n",
      "Spring (Java),\n",
      "Laravel(PHP),\n",
      "ASP.NET (C#) and many others.\n"
     ]
    }
   ],
   "source": [
    "fp = open(\"file2.txt\",'r')\n",
    "res=fp.read()\n",
    "print(type(res))\n",
    "print(res)\n",
    "fp.close()"
   ]
  },
  {
   "cell_type": "code",
   "execution_count": 26,
   "metadata": {},
   "outputs": [],
   "source": [
    "data = \"\"\"Its's phenomenon to copy the reference address from one variable to another variable.\n",
    "So, modification of one variable is going to impact the values on other variable.\"\"\""
   ]
  },
  {
   "cell_type": "code",
   "execution_count": 27,
   "metadata": {},
   "outputs": [],
   "source": [
    "# write function\n",
    "\n",
    "def writefile(file_name,data):\n",
    "    fp = open(file_name,'w')\n",
    "    fp.write(data)\n",
    "    fp.close()"
   ]
  },
  {
   "cell_type": "code",
   "execution_count": 28,
   "metadata": {},
   "outputs": [],
   "source": [
    "#read function\n",
    "\n",
    "def read_file(file_name):\n",
    "    fp = open(file_name,'r')\n",
    "    res = fp.read()\n",
    "    fp.close()              #closes file\n",
    "    return res              #ends function execution"
   ]
  },
  {
   "cell_type": "code",
   "execution_count": 29,
   "metadata": {},
   "outputs": [],
   "source": [
    "#append function\n",
    "\n",
    "def append_file(file_name,data):\n",
    "    fp=open(file_name,'a')\n",
    "    fp.write(data)\n",
    "    fp.close()"
   ]
  },
  {
   "cell_type": "code",
   "execution_count": 30,
   "metadata": {},
   "outputs": [],
   "source": [
    "#count function\n",
    "\n",
    "def occur(coll,ele):\n",
    "    count = 0\n",
    "    for i in range(0,len(coll)):\n",
    "        if ele.upper() == coll[i:len(ele)+i].upper():\n",
    "            count+=1\n",
    "    return count"
   ]
  },
  {
   "cell_type": "code",
   "execution_count": 31,
   "metadata": {},
   "outputs": [],
   "source": [
    "#replace function\n",
    "\n",
    "def replace(coll,old_ele,new_ele):\n",
    "    res=\"\"\n",
    "    i=0\n",
    "    while i<len(coll):\n",
    "        if old_ele==coll[i:len(old_ele)+i]:\n",
    "            res+=new_ele\n",
    "            i+=len(old_ele)-1\n",
    "        else:\n",
    "            res+=coll[i]\n",
    "        i+=1\n",
    "    return res"
   ]
  },
  {
   "cell_type": "code",
   "execution_count": 33,
   "metadata": {},
   "outputs": [],
   "source": [
    "#eliminate function\n",
    "\n",
    "def eliminate(coll,ele):\n",
    "    res=\"\"\n",
    "    i=0\n",
    "    while i<len(coll):\n",
    "        if ele==coll[i:len(ele)+i] and coll[i-1] in \". \" and coll[len(ele)+i] in \". \":\n",
    "            i+=len(ele)\n",
    "            if coll[i]==\".\":\n",
    "                res+=coll[i]\n",
    "        else:\n",
    "            res+=coll[i]\n",
    "        i+=1\n",
    "    return res"
   ]
  },
  {
   "cell_type": "code",
   "execution_count": 45,
   "metadata": {},
   "outputs": [],
   "source": [
    "#data deletion in file fn=unction\n",
    "\n",
    "def delete_data(file_name):\n",
    "    pass"
   ]
  },
  {
   "cell_type": "code",
   "execution_count": 46,
   "metadata": {},
   "outputs": [],
   "source": [
    "writefile(\"practice.txt\",data)"
   ]
  },
  {
   "cell_type": "code",
   "execution_count": 47,
   "metadata": {},
   "outputs": [
    {
     "name": "stdout",
     "output_type": "stream",
     "text": [
      "Its's phenomenon to copy the reference address from one variable to another variable.\n",
      "So, modification of one variable is going to impact the values on other variable.\n"
     ]
    }
   ],
   "source": [
    "file_data = read_file(\"practice.txt\")\n",
    "print(file_data)"
   ]
  },
  {
   "cell_type": "code",
   "execution_count": 48,
   "metadata": {},
   "outputs": [
    {
     "name": "stdout",
     "output_type": "stream",
     "text": [
      "Its's phenomenon to copy the reference address from one object to another object.\n",
      "So, modification of one object is going to impact the values on other object.\n"
     ]
    }
   ],
   "source": [
    "modified_data = replace(file_data,\"variable\",\"object\") #data is modifiled externally\n",
    "print(modified_data)"
   ]
  },
  {
   "cell_type": "code",
   "execution_count": 49,
   "metadata": {},
   "outputs": [],
   "source": [
    "writefile(\"practice.txt\",modified_data) \n",
    "#modified data is written in to the file, wipesoff previous content since it is write function"
   ]
  },
  {
   "cell_type": "code",
   "execution_count": 50,
   "metadata": {},
   "outputs": [
    {
     "name": "stdout",
     "output_type": "stream",
     "text": [
      "Its's phenomenon to copy the reference address from one object to another object.\n",
      "So, modification of one object is going to impact the values on other object.\n"
     ]
    }
   ],
   "source": [
    "file_data = read_file(\"practice.txt\")\n",
    "print(file_data)"
   ]
  },
  {
   "cell_type": "code",
   "execution_count": 51,
   "metadata": {},
   "outputs": [],
   "source": [
    "extra_data = \"To overcome this shallow copy and deep are used\"\n",
    "append_file(\"practice.txt\",extra_data)"
   ]
  },
  {
   "cell_type": "code",
   "execution_count": 52,
   "metadata": {},
   "outputs": [
    {
     "name": "stdout",
     "output_type": "stream",
     "text": [
      "Its's phenomenon to copy the reference address from one object to another object.\n",
      "So, modification of one object is going to impact the values on other object.To overcome this shallow copy and deep are used\n"
     ]
    }
   ],
   "source": [
    "file_data=read_file(\"practice.txt\")\n",
    "print(file_data)"
   ]
  }
 ],
 "metadata": {
  "kernelspec": {
   "display_name": "Python 3",
   "language": "python",
   "name": "python3"
  },
  "language_info": {
   "codemirror_mode": {
    "name": "ipython",
    "version": 3
   },
   "file_extension": ".py",
   "mimetype": "text/x-python",
   "name": "python",
   "nbconvert_exporter": "python",
   "pygments_lexer": "ipython3",
   "version": "3.11.4"
  },
  "orig_nbformat": 4
 },
 "nbformat": 4,
 "nbformat_minor": 2
}
