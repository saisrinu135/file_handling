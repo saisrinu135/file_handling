{
 "cells": [
  {
   "cell_type": "code",
   "execution_count": 3,
   "metadata": {},
   "outputs": [],
   "source": [
    "import csv\n",
    "\n",
    "fp=open(\"student.csv\",'w',newline='\\n')     #by default it skips line, if newline='\\n' is mentioned it doesnot skip line\n",
    "w=csv.writer(fp)                            #opened file address is passed into csv writer\n",
    "w.writerow(['name','age','phone','email'])  #writerow is csv function\n",
    "fp.close()                                  #file is closed"
   ]
  },
  {
   "cell_type": "code",
   "execution_count": 4,
   "metadata": {},
   "outputs": [],
   "source": [
    "fp=open(\"student.csv\",'a',newline='\\n')\n",
    "w=csv.writer(fp)\n",
    "w.writerows([['sai',25,9898989898,'sai@gmail.com'],\n",
    "             ['rahul',22,8989898989,'rahul@gmail.com'],\n",
    "             ['raghu',23,7878787878,'raghu@gmail.com']])\n",
    "fp.close()"
   ]
  },
  {
   "cell_type": "code",
   "execution_count": 6,
   "metadata": {},
   "outputs": [
    {
     "name": "stdout",
     "output_type": "stream",
     "text": [
      "[['name', 'age', 'phone', 'email'], ['sai', '25', '9898989898', 'sai@gmail.com'], ['rahul', '22', '8989898989', 'rahul@gmail.com'], ['raghu', '23', '7878787878', 'raghu@gmail.com']]\n"
     ]
    }
   ],
   "source": [
    "fp=open(\"student.csv\",'r')\n",
    "r=csv.reader(fp)\n",
    "res=list(r)     #stores the data in the file in res in list format. Since the data can be extracted only once. Once used, need to run the read function again\n",
    "fp.close()\n",
    "print(res)"
   ]
  },
  {
   "cell_type": "code",
   "execution_count": 7,
   "metadata": {},
   "outputs": [
    {
     "name": "stdout",
     "output_type": "stream",
     "text": [
      "['name', 'age', 'phone', 'email']\n",
      "['sai', '25', '9898989898', 'sai@gmail.com']\n",
      "['rahul', '22', '8989898989', 'rahul@gmail.com']\n",
      "['raghu', '23', '7878787878', 'raghu@gmail.com']\n"
     ]
    }
   ],
   "source": [
    "for i in res:\n",
    "    print(i)"
   ]
  },
  {
   "cell_type": "code",
   "execution_count": 8,
   "metadata": {},
   "outputs": [
    {
     "name": "stdout",
     "output_type": "stream",
     "text": [
      "['sai', '25', '9898989898', 'sai@gmail.com']\n"
     ]
    }
   ],
   "source": [
    "for i in res:\n",
    "    if i[2] == '9898989898':\n",
    "        print(i)"
   ]
  },
  {
   "cell_type": "code",
   "execution_count": 9,
   "metadata": {},
   "outputs": [],
   "source": [
    "#changing main id\n",
    "\n",
    "for i in res:\n",
    "    if i[2]=='9898989898':\n",
    "        i[-1]='sai123@gmail.com'"
   ]
  },
  {
   "cell_type": "code",
   "execution_count": 10,
   "metadata": {},
   "outputs": [
    {
     "name": "stdout",
     "output_type": "stream",
     "text": [
      "['name', 'age', 'phone', 'email']\n",
      "['sai', '25', '9898989898', 'sai123@gmail.com']\n",
      "['rahul', '22', '8989898989', 'rahul@gmail.com']\n",
      "['raghu', '23', '7878787878', 'raghu@gmail.com']\n"
     ]
    }
   ],
   "source": [
    "for i in res:\n",
    "    print(i)"
   ]
  },
  {
   "cell_type": "code",
   "execution_count": 11,
   "metadata": {},
   "outputs": [],
   "source": [
    "fp = open(\"student.csv\",'w',newline='')\n",
    "w=csv.writer(fp)\n",
    "w.writerows(res)\n",
    "fp.close()"
   ]
  },
  {
   "cell_type": "code",
   "execution_count": 13,
   "metadata": {},
   "outputs": [
    {
     "name": "stdout",
     "output_type": "stream",
     "text": [
      "[{'name': 'sai', 'age': '25', 'phone': '9898989898', 'email': 'sai123@gmail.com'}, {'name': 'rahul', 'age': '22', 'phone': '8989898989', 'email': 'rahul@gmail.com'}, {'name': 'raghu', 'age': '23', 'phone': '7878787878', 'email': 'raghu@gmail.com'}]\n"
     ]
    }
   ],
   "source": [
    "fp=open(\"student.csv\",'r')\n",
    "r = csv.DictReader(fp)   #returns the list of dictionaries with column name as key and data as value\n",
    "res=list(r)\n",
    "fp.close()\n",
    "print(res)"
   ]
  },
  {
   "cell_type": "code",
   "execution_count": 14,
   "metadata": {},
   "outputs": [],
   "source": [
    "for i in res:\n",
    "    if i['phone'] == '9898989898':\n",
    "        i['email'] = 'sai@gmail.com'\n",
    "    "
   ]
  },
  {
   "cell_type": "code",
   "execution_count": 15,
   "metadata": {},
   "outputs": [
    {
     "name": "stdout",
     "output_type": "stream",
     "text": [
      "{'name': 'sai', 'age': '25', 'phone': '9898989898', 'email': 'sai@gmail.com'}\n",
      "{'name': 'rahul', 'age': '22', 'phone': '8989898989', 'email': 'rahul@gmail.com'}\n",
      "{'name': 'raghu', 'age': '23', 'phone': '7878787878', 'email': 'raghu@gmail.com'}\n"
     ]
    }
   ],
   "source": [
    "for i in res:\n",
    "    print(i)"
   ]
  },
  {
   "cell_type": "code",
   "execution_count": 16,
   "metadata": {},
   "outputs": [],
   "source": [
    "fp = open(\"student.csv\",'w',newline=\"\")\n",
    "w=csv.DictWriter(fp,['name','age','phone','email'])\n",
    "w.writeheader()\n",
    "w.writerows(res)\n",
    "fp.close()"
   ]
  },
  {
   "cell_type": "code",
   "execution_count": null,
   "metadata": {},
   "outputs": [],
   "source": []
  }
 ],
 "metadata": {
  "kernelspec": {
   "display_name": "Python 3",
   "language": "python",
   "name": "python3"
  },
  "language_info": {
   "codemirror_mode": {
    "name": "ipython",
    "version": 3
   },
   "file_extension": ".py",
   "mimetype": "text/x-python",
   "name": "python",
   "nbconvert_exporter": "python",
   "pygments_lexer": "ipython3",
   "version": "3.11.4"
  },
  "orig_nbformat": 4
 },
 "nbformat": 4,
 "nbformat_minor": 2
}
