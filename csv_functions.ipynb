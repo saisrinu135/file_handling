{
 "cells": [
  {
   "cell_type": "code",
   "execution_count": 16,
   "metadata": {},
   "outputs": [],
   "source": [
    "import csv\n",
    "\n",
    "def csvfilewrite(file,header,data):\n",
    "    fp = open(file,'w',newline=\"\")\n",
    "    w=csv.writer(fp)\n",
    "    w.writerow(header)\n",
    "    w.writerow(data)\n",
    "    fp.close()\n",
    "h = ['name','age','mobile','email','gender','salary','location']\n",
    "data = ['sai',23,1111111111,'sai@gmail.com','male',45000,'hyd']\n",
    "csvfilewrite(\"employee.csv\",h,data)"
   ]
  },
  {
   "cell_type": "code",
   "execution_count": 5,
   "metadata": {},
   "outputs": [],
   "source": [
    "def csvfilewriterows(file,data):\n",
    "    fp = open(file,'w',newline='')\n",
    "    w=csv.writer(fp)\n",
    "    w.writerows(data)\n",
    "    fp.close()"
   ]
  },
  {
   "cell_type": "code",
   "execution_count": 17,
   "metadata": {},
   "outputs": [],
   "source": [
    "def cvsfileappend(file,data):\n",
    "    fp=open(file,'a',newline='')\n",
    "    w=csv.writer(fp)\n",
    "    w.writerow(data)\n",
    "    fp.close()\n",
    "l=['roja',30,6767676767,'roja@gmail.com','female',55000,'hyd']\n",
    "cvsfileappend(\"employee.csv\",l)"
   ]
  },
  {
   "cell_type": "code",
   "execution_count": 18,
   "metadata": {},
   "outputs": [],
   "source": [
    "def csvfileread(file):\n",
    "    fp=open(file,'r')\n",
    "    r = csv.reader(fp)\n",
    "    res = list(r)\n",
    "    fp.close()\n",
    "    return res\n",
    "detail = csvfileread('employee.csv')"
   ]
  },
  {
   "cell_type": "code",
   "execution_count": 19,
   "metadata": {},
   "outputs": [
    {
     "name": "stdout",
     "output_type": "stream",
     "text": [
      "[['name', 'age', 'mobile', 'email', 'gender', 'salary', 'location'], ['sai', '23', '1111111111', 'sai@gmail.com', 'male', '45000', 'hyd'], ['roja', '30', '6767676767', 'roja@gmail.com', 'female', '55000', 'hyd']]\n"
     ]
    }
   ],
   "source": [
    "print(detail)"
   ]
  },
  {
   "cell_type": "code",
   "execution_count": 20,
   "metadata": {},
   "outputs": [
    {
     "name": "stdout",
     "output_type": "stream",
     "text": [
      "Success\n"
     ]
    }
   ],
   "source": [
    "def modify_data(coll,old,new,file):\n",
    "    for i in coll:\n",
    "        if str(i[2])==str(old):\n",
    "            i[2]=new\n",
    "        csvfilewriterows(file,coll)\n",
    "    print(\"Success\")\n",
    "modify_data(detail,6767676767,7676767676,'employee.csv')"
   ]
  },
  {
   "cell_type": "code",
   "execution_count": 21,
   "metadata": {},
   "outputs": [
    {
     "name": "stdout",
     "output_type": "stream",
     "text": [
      "Success\n"
     ]
    }
   ],
   "source": [
    "def delete_data(coll,data,file):\n",
    "    for i in coll:\n",
    "        if str(i[2])==str(data):\n",
    "            i[2]=None  #replaced with None (Empty) otherwise the positions of the data changes\n",
    "        csvfilewriterows(file,coll)\n",
    "    print(\"Success\")\n",
    "delete_data(detail,7676767676,\"employee.csv\")"
   ]
  },
  {
   "cell_type": "code",
   "execution_count": 22,
   "metadata": {},
   "outputs": [
    {
     "data": {
      "text/plain": [
       "[['name', 'age', 'mobile', 'email', 'gender', 'salary', 'location'],\n",
       " ['sai', '23', '1111111111', 'sai@gmail.com', 'male', '45000', 'hyd'],\n",
       " ['roja', '30', '', 'roja@gmail.com', 'female', '55000', 'hyd']]"
      ]
     },
     "execution_count": 22,
     "metadata": {},
     "output_type": "execute_result"
    }
   ],
   "source": [
    "csvfileread(\"employee.csv\")"
   ]
  }
 ],
 "metadata": {
  "kernelspec": {
   "display_name": "Python 3",
   "language": "python",
   "name": "python3"
  },
  "language_info": {
   "codemirror_mode": {
    "name": "ipython",
    "version": 3
   },
   "file_extension": ".py",
   "mimetype": "text/x-python",
   "name": "python",
   "nbconvert_exporter": "python",
   "pygments_lexer": "ipython3",
   "version": "3.11.4"
  },
  "orig_nbformat": 4
 },
 "nbformat": 4,
 "nbformat_minor": 2
}
